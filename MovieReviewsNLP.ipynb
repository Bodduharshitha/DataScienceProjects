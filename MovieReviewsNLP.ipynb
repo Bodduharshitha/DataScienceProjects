{
 "cells": [
  {
   "cell_type": "markdown",
   "id": "552fb399",
   "metadata": {},
   "source": [
    "# Text Classification on Movie Reviews"
   ]
  },
  {
   "cell_type": "markdown",
   "id": "0aec3db2",
   "metadata": {},
   "source": [
    "## Import neccessary libraries"
   ]
  },
  {
   "cell_type": "code",
   "execution_count": 85,
   "id": "6f11b844",
   "metadata": {},
   "outputs": [],
   "source": [
    "import nltk\n",
    "from nltk import FreqDist\n",
    "from nltk import classify\n",
    "from sklearn.svm import SVC\n",
    "from nltk.corpus import stopwords\n",
    "from nltk.stem import PorterStemmer\n",
    "from nltk.stem import WordNetLemmatizer\n",
    "from nltk.corpus import movie_reviews\n",
    "from nltk import NaiveBayesClassifier\n",
    "from nltk.tokenize import word_tokenize\n",
    "from sklearn.pipeline import make_pipeline\n",
    "from sklearn.ensemble import RandomForestClassifier\n",
    "from sklearn.model_selection import train_test_split\n",
    "from sklearn.feature_extraction.text import TfidfVectorizer\n",
    "from sklearn.metrics import accuracy_score, classification_report, confusion_matrix"
   ]
  },
  {
   "cell_type": "markdown",
   "id": "8aea271b",
   "metadata": {},
   "source": [
    "## Load and prepare the dataset"
   ]
  },
  {
   "cell_type": "code",
   "execution_count": 86,
   "id": "6e19a9ed",
   "metadata": {
    "collapsed": true
   },
   "outputs": [
    {
     "name": "stderr",
     "output_type": "stream",
     "text": [
      "[nltk_data] Downloading package movie_reviews to\n",
      "[nltk_data]     C:\\Users\\boddu\\AppData\\Roaming\\nltk_data...\n",
      "[nltk_data]   Package movie_reviews is already up-to-date!\n"
     ]
    }
   ],
   "source": [
    "nltk.download('movie_reviews')\n",
    "documents = [(list(movie_reviews.words(fileid)), category)\n",
    "             for category in movie_reviews.categories()\n",
    "             for fileid in movie_reviews.fileids(category)]"
   ]
  },
  {
   "cell_type": "markdown",
   "id": "f7f165ab",
   "metadata": {},
   "source": [
    "### To ensure that the data is randomly distributed across the training and testing sets to avoid bias"
   ]
  },
  {
   "cell_type": "code",
   "execution_count": 87,
   "id": "ae4ea181",
   "metadata": {},
   "outputs": [],
   "source": [
    "# Shuffle the documents\n",
    "import random\n",
    "random.shuffle(documents)"
   ]
  },
  {
   "cell_type": "markdown",
   "id": "c12314d4",
   "metadata": {},
   "source": [
    "## Preprocessing"
   ]
  },
  {
   "cell_type": "markdown",
   "id": "25fdda8d",
   "metadata": {},
   "source": [
    "### Text cleaning"
   ]
  },
  {
   "cell_type": "code",
   "execution_count": 88,
   "id": "07838e56",
   "metadata": {},
   "outputs": [],
   "source": [
    "# Remove stopwords and perform stemming\n",
    "stop_words = set(stopwords.words(\"english\"))\n",
    "ps = PorterStemmer()\n",
    "\n",
    "def clean_text(words):\n",
    "    return [ps.stem(word.lower()) for word in words if word.isalpha() and word.lower() not in stop_words]"
   ]
  },
  {
   "cell_type": "code",
   "execution_count": 89,
   "id": "22a03cbd",
   "metadata": {},
   "outputs": [],
   "source": [
    "# # Text cleaning with lemmatization\n",
    "# # Download WordNet resource for lemmatization\n",
    "# nltk.download('wordnet')\n",
    "\n",
    "# lemmatizer = WordNetLemmatizer()"
   ]
  },
  {
   "cell_type": "code",
   "execution_count": 90,
   "id": "edd03b75",
   "metadata": {},
   "outputs": [],
   "source": [
    "# def clean_text(words):\n",
    "#     return [lemmatizer.lemmatize(word.lower()) for word in words if word.isalpha() and word.lower() not in stop_words]\n",
    "\n",
    "# documents = [(clean_text(words), category) for words, category in documents]"
   ]
  },
  {
   "cell_type": "markdown",
   "id": "e8653fa2",
   "metadata": {},
   "source": [
    "### Feature extraction"
   ]
  },
  {
   "cell_type": "code",
   "execution_count": 91,
   "id": "6de81259",
   "metadata": {},
   "outputs": [],
   "source": [
    "all_words = [word for words, category in documents for word in words]\n",
    "word_features = FreqDist(all_words).keys()"
   ]
  },
  {
   "cell_type": "code",
   "execution_count": 92,
   "id": "80c14275",
   "metadata": {},
   "outputs": [],
   "source": [
    "def extract_features(document):\n",
    "    document_words = set(document)\n",
    "    features = {word: (word in document_words) for word in word_features}\n",
    "    return features"
   ]
  },
  {
   "cell_type": "markdown",
   "id": "37d8905a",
   "metadata": {},
   "source": [
    "## Train test split"
   ]
  },
  {
   "cell_type": "code",
   "execution_count": 93,
   "id": "5218c89c",
   "metadata": {},
   "outputs": [],
   "source": [
    "train_set, test_set = train_test_split(documents, test_size=0.2, random_state=42)"
   ]
  },
  {
   "cell_type": "markdown",
   "id": "75c7b838",
   "metadata": {},
   "source": [
    "## Model Training"
   ]
  },
  {
   "cell_type": "markdown",
   "id": "ba5bd7df",
   "metadata": {},
   "source": [
    "### Naive Bayes Classifier"
   ]
  },
  {
   "cell_type": "code",
   "execution_count": 94,
   "id": "98972297",
   "metadata": {},
   "outputs": [],
   "source": [
    "training_data = [(extract_features(words), category) for words, category in train_set]\n",
    "testing_data = [(extract_features(words), category) for words, category in test_set]\n",
    "\n",
    "classifier = NaiveBayesClassifier.train(training_data)"
   ]
  },
  {
   "cell_type": "code",
   "execution_count": 95,
   "id": "c1d4e494",
   "metadata": {},
   "outputs": [
    {
     "name": "stdout",
     "output_type": "stream",
     "text": [
      "Accuracy: 0.825\n",
      "\n",
      "Confusion Matrix:\n",
      " [[193  22]\n",
      " [ 48 137]]\n",
      "\n",
      "Classification Report:\n",
      "               precision    recall  f1-score   support\n",
      "\n",
      "         neg       0.80      0.90      0.85       215\n",
      "         pos       0.86      0.74      0.80       185\n",
      "\n",
      "    accuracy                           0.82       400\n",
      "   macro avg       0.83      0.82      0.82       400\n",
      "weighted avg       0.83      0.82      0.82       400\n",
      "\n"
     ]
    }
   ],
   "source": [
    "y_true = [category for words, category in test_set]\n",
    "y_pred = [classifier.classify(extract_features(words)) for words, category in test_set]\n",
    "\n",
    "print(\"Accuracy:\", accuracy_score(y_true, y_pred))\n",
    "print(\"\\nConfusion Matrix:\\n\", confusion_matrix(y_true, y_pred))\n",
    "print(\"\\nClassification Report:\\n\", classification_report(y_true, y_pred))"
   ]
  },
  {
   "cell_type": "markdown",
   "id": "a62904b7",
   "metadata": {},
   "source": [
    "### Support Vector Machine (SVM)"
   ]
  },
  {
   "cell_type": "code",
   "execution_count": 96,
   "id": "53c446dd",
   "metadata": {},
   "outputs": [
    {
     "name": "stdout",
     "output_type": "stream",
     "text": [
      "SVM Accuracy: 0.86\n",
      "\n",
      "SVM Classification Report:\n",
      "               precision    recall  f1-score   support\n",
      "\n",
      "         neg       0.87      0.87      0.87       215\n",
      "         pos       0.85      0.84      0.85       185\n",
      "\n",
      "    accuracy                           0.86       400\n",
      "   macro avg       0.86      0.86      0.86       400\n",
      "weighted avg       0.86      0.86      0.86       400\n",
      "\n"
     ]
    }
   ],
   "source": [
    "# Prepare data\n",
    "X_train = [' '.join(words) for words, _ in train_set]\n",
    "y_train = [category for _, category in train_set]\n",
    "X_test = [' '.join(words) for words, _ in test_set]\n",
    "y_test = [category for _, category in test_set]\n",
    "\n",
    "# Create SVM model\n",
    "svm_model = make_pipeline(TfidfVectorizer(), SVC(kernel='linear'))\n",
    "svm_model.fit(X_train, y_train)\n",
    "\n",
    "# Evaluate\n",
    "svm_predictions = svm_model.predict(X_test)\n",
    "print(\"SVM Accuracy:\", accuracy_score(y_test, svm_predictions))\n",
    "print(\"\\nSVM Classification Report:\\n\", classification_report(y_test, svm_predictions))"
   ]
  },
  {
   "cell_type": "markdown",
   "id": "1507b92e",
   "metadata": {},
   "source": [
    "### Random Forest "
   ]
  },
  {
   "cell_type": "code",
   "execution_count": 97,
   "id": "c246ae3d",
   "metadata": {},
   "outputs": [
    {
     "name": "stdout",
     "output_type": "stream",
     "text": [
      "Random Forest Accuracy: 0.795\n",
      "\n",
      "Random Forest Classification Report:\n",
      "               precision    recall  f1-score   support\n",
      "\n",
      "         neg       0.80      0.83      0.81       215\n",
      "         pos       0.79      0.76      0.77       185\n",
      "\n",
      "    accuracy                           0.80       400\n",
      "   macro avg       0.79      0.79      0.79       400\n",
      "weighted avg       0.79      0.80      0.79       400\n",
      "\n"
     ]
    }
   ],
   "source": [
    "# Create Random Forest model\n",
    "rf_model = make_pipeline(TfidfVectorizer(), RandomForestClassifier(n_estimators=100, random_state=42))\n",
    "rf_model.fit(X_train, y_train)\n",
    "\n",
    "# Evaluate\n",
    "rf_predictions = rf_model.predict(X_test)\n",
    "print(\"Random Forest Accuracy:\", accuracy_score(y_test, rf_predictions))\n",
    "print(\"\\nRandom Forest Classification Report:\\n\", classification_report(y_test, rf_predictions))"
   ]
  },
  {
   "cell_type": "markdown",
   "id": "9e5fb685",
   "metadata": {},
   "source": [
    "## Visualization"
   ]
  },
  {
   "cell_type": "markdown",
   "id": "571e978a",
   "metadata": {},
   "source": [
    "### Model Performance Visualizations\n",
    "\n",
    "The code below includes visualizations of confusion matrices for three different models: Naive Bayes, Support Vector Machine (SVM), and Random Forest. These matrices offer a clear overview of each model's performance, detailing true positive (TP), true negative (TN), false positive (FP), and false negative (FN) predictions.\n",
    "\n",
    "**Interpretation for Naive Bayes:**\n",
    "- **True Positive (TP):** Positive reviews correctly classified.\n",
    "- **True Negative (TN):** Negative reviews correctly classified.\n",
    "- **False Positive (FP):** Negative reviews misclassified as positive.\n",
    "- **False Negative (FN):** Positive reviews misclassified as negative.\n",
    "\n",
    "**Interpretation for Support Vector Machine (SVM) and Random Forest:**\n",
    "- Similar interpretations as Naive Bayes.\n",
    "\n",
    "**Understanding the Visualizations:**\n",
    "- Darker shades in the diagonal indicate higher numbers of correct predictions (TP and TN).\n",
    "- Off-diagonal elements represent misclassifications (FP and FN).\n",
    "- Color intensity provides a visual representation of the number of instances.\n",
    "\n",
    "The visualizations aid in assessing the strengths and weaknesses of each model, facilitating a comparative analysis of their performance."
   ]
  },
  {
   "cell_type": "code",
   "execution_count": 100,
   "id": "d65dc201",
   "metadata": {},
   "outputs": [
    {
     "data": {
      "image/png": "[encoded data removed]",
      "text/plain": [
       "<Figure size 1500x500 with 6 Axes>"
      ]
     },
     "metadata": {},
     "output_type": "display_data"
    }
   ],
   "source": [
    "import matplotlib.pyplot as plt\n",
    "import seaborn as sns\n",
    "from sklearn.model_selection import train_test_split\n",
    "from sklearn.feature_extraction.text import TfidfVectorizer\n",
    "from sklearn.naive_bayes import MultinomialNB\n",
    "from sklearn.svm import SVC\n",
    "from sklearn.ensemble import RandomForestClassifier\n",
    "from sklearn.metrics import accuracy_score, confusion_matrix, classification_report\n",
    "\n",
    "# Assuming you have X_train, X_test, y_train, y_test from the preprocessing step\n",
    "\n",
    "# Feature extraction using TF-IDF vectorization\n",
    "vectorizer = TfidfVectorizer()\n",
    "X_train_tfidf = vectorizer.fit_transform(X_train)\n",
    "X_test_tfidf = vectorizer.transform(X_test)\n",
    "\n",
    "# Train Naive Bayes model\n",
    "nb_model = MultinomialNB()\n",
    "nb_model.fit(X_train_tfidf, y_train)\n",
    "\n",
    "# Train Support Vector Machine model\n",
    "svm_model = SVC(kernel='linear')\n",
    "svm_model.fit(X_train_tfidf, y_train)\n",
    "\n",
    "# Train Random Forest model\n",
    "rf_model = RandomForestClassifier(n_estimators=100, random_state=42)\n",
    "rf_model.fit(X_train_tfidf, y_train)\n",
    "\n",
    "# Make predictions\n",
    "nb_predictions = nb_model.predict(X_test_tfidf)\n",
    "svm_predictions = svm_model.predict(X_test_tfidf)\n",
    "rf_predictions = rf_model.predict(X_test_tfidf)\n",
    "\n",
    "# Compare models using accuracy\n",
    "nb_accuracy = accuracy_score(y_test, nb_predictions)\n",
    "svm_accuracy = accuracy_score(y_test, svm_predictions)\n",
    "rf_accuracy = accuracy_score(y_test, rf_predictions)\n",
    "\n",
    "# Visualize confusion matrices\n",
    "fig, axes = plt.subplots(1, 3, figsize=(15, 5))\n",
    "\n",
    "sns.heatmap(confusion_matrix(y_test, nb_predictions), annot=True, fmt='d', cmap='Blues', ax=axes[0])\n",
    "axes[0].set_title(f'Naive Bayes\\nAccuracy: {nb_accuracy:.2f}')\n",
    "\n",
    "sns.heatmap(confusion_matrix(y_test, svm_predictions), annot=True, fmt='d', cmap='Blues', ax=axes[1])\n",
    "axes[1].set_title(f'SVM\\nAccuracy: {svm_accuracy:.2f}')\n",
    "\n",
    "sns.heatmap(confusion_matrix(y_test, rf_predictions), annot=True, fmt='d', cmap='Blues', ax=axes[2])\n",
    "axes[2].set_title(f'Random Forest\\nAccuracy: {rf_accuracy:.2f}')\n",
    "\n",
    "plt.show()"
   ]
  },
  {
   "cell_type": "markdown",
   "id": "a6040327",
   "metadata": {},
   "source": [
    "## Conclusion : "
   ]
  },
  {
   "cell_type": "markdown",
   "id": "27758676",
   "metadata": {},
   "source": [
    "**Support Vector Machine (SVM) for Text Classification:**\n",
    "\n",
    "**Strengths:**\n",
    "1. SVM is effective for high-dimensional data, making it suitable for text classification tasks.\n",
    "2. It excels in handling non-linear relationships between features through kernel tricks.\n",
    "3. SVM provides robust generalization, reducing the risk of overfitting in complex datasets.\n",
    "\n",
    "**Limitations:**\n",
    "1. SVM's computational complexity increases with larger datasets.\n",
    "2. Fine-tuning hyperparameters is crucial, and SVM's performance heavily depends on the choice of the kernel.\n",
    "3. Interpretability can be challenging with complex kernel functions.\n",
    "\n",
    "\n",
    "#### In the conducted text classification experiments using three different preprocessing approaches—stemming, lemmatization, and a combination of both stemming and lemmatization—the Support Vector Machine (SVM) model consistently demonstrated robust performance across all scenarios. The SVM model exhibited high accuracy in categorizing movie reviews as positive or negative sentiments."
   ]
  }
 ],
 "metadata": {
  "kernelspec": {
   "display_name": "Python 3 (ipykernel)",
   "language": "python",
   "name": "python3"
  },
  "language_info": {
   "codemirror_mode": {
    "name": "ipython",
    "version": 3
   },
   "file_extension": ".py",
   "mimetype": "text/x-python",
   "name": "python",
   "nbconvert_exporter": "python",
   "pygments_lexer": "ipython3",
   "version": "3.10.13"
  }
 },
 "nbformat": 4,
 "nbformat_minor": 5
}
